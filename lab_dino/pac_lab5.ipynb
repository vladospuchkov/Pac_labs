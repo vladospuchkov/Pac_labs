{
  "cells": [
    {
      "cell_type": "code",
      "execution_count": null,
      "metadata": {
        "colab": {
          "base_uri": "https://localhost:8080/"
        },
        "id": "7vQpmN2LFDdk",
        "outputId": "37b51216-1687-49f4-aaa8-791de9ed52e0"
      },
      "outputs": [
        {
          "output_type": "stream",
          "name": "stderr",
          "text": [
            "/usr/local/lib/python3.10/dist-packages/torchvision/models/_utils.py:208: UserWarning: The parameter 'pretrained' is deprecated since 0.13 and may be removed in the future, please use 'weights' instead.\n",
            "  warnings.warn(\n",
            "/usr/local/lib/python3.10/dist-packages/torchvision/models/_utils.py:223: UserWarning: Arguments other than a weight enum or `None` for 'weights' are deprecated since 0.13 and may be removed in the future. The current behavior is equivalent to passing `weights=ResNet18_Weights.IMAGENET1K_V1`. You can also use `weights=ResNet18_Weights.DEFAULT` to get the most up-to-date weights.\n",
            "  warnings.warn(msg)\n",
            "Downloading: \"https://download.pytorch.org/models/resnet18-f37072fd.pth\" to /root/.cache/torch/hub/checkpoints/resnet18-f37072fd.pth\n",
            "100%|██████████| 44.7M/44.7M [00:00<00:00, 106MB/s]\n"
          ]
        }
      ],
      "source": [
        "import torch\n",
        "import torch.nn as nn\n",
        "from torchvision import models, transforms\n",
        "import numpy as np\n",
        "import matplotlib.pyplot as plt\n",
        "from PIL import Image\n",
        "\n",
        "resnet = models.resnet18(pretrained=True)\n",
        "# Удаление последнего полносвязного слоя\n",
        "resnet = nn.Sequential(*list(resnet.children())[:-1])\n",
        "\n",
        "resnet.eval()\n",
        "\n",
        "preprocess = transforms.Compose([\n",
        "   # transforms.Resize((224, 224)),\n",
        "    transforms.ToTensor(),\n",
        "   transforms.Normalize(mean=[0.485, 0.456, 0.406], std=[0.229, 0.224, 0.225])\n",
        "\n",
        "])\n",
        "\n"
      ]
    },
    {
      "cell_type": "code",
      "execution_count": null,
      "metadata": {
        "id": "zHRzYGI7KLD6"
      },
      "outputs": [],
      "source": [
        "\n",
        "image_with_objects = Image.open(\"abc.png\").convert('RGB')  # Изображение с большим количеством объектов\n",
        "image_with_single_object = Image.open(\"diplodoce.png\").convert('RGB')  # Изображение с одним объектом\n",
        "\n",
        "# порежем изображение с динозаврами на много частей\n",
        "our_squarez = []\n",
        "for i in range(10,1090,90):\n",
        "  row = []\n",
        "  for j in range(10,730,120):\n",
        "    box = (j, i, j+120, i+90)\n",
        "    square = image_with_objects.crop(box)\n",
        "    row.append(square)\n",
        "  our_squarez.append(row)\n",
        "# Преобразование изображений в тензоры PyTorch\n",
        "for i in range(len(our_squarez)):\n",
        "  for j in range(len(our_squarez[i])):\n",
        "    our_squarez[i][j] = preprocess(our_squarez[i][j]).unsqueeze(0)\n",
        "image_with_single_object_tensor = preprocess(image_with_single_object).unsqueeze(0)\n",
        "\n",
        "# Получение векторов активаций для изображений\n",
        "with torch.no_grad():\n",
        "    for i in range(len(our_squarez)):\n",
        "      for j in range(len(our_squarez[i])):\n",
        "        our_squarez[i][j] = resnet(our_squarez[i][j])\n",
        "    activations_single_object = resnet(image_with_single_object_tensor)"
      ]
    },
    {
      "cell_type": "code",
      "source": [],
      "metadata": {
        "id": "gDntv5dPdlum"
      },
      "execution_count": null,
      "outputs": []
    },
    {
      "cell_type": "code",
      "execution_count": null,
      "metadata": {
        "colab": {
          "base_uri": "https://localhost:8080/"
        },
        "id": "34egTJ84OrPp",
        "outputId": "26f2ccd8-2e44-488d-917b-458c14c7915a"
      },
      "outputs": [
        {
          "output_type": "execute_result",
          "data": {
            "text/plain": [
              "torch.Size([1, 512, 1, 1])"
            ]
          },
          "metadata": {},
          "execution_count": 3
        }
      ],
      "source": [
        "activations_single_object.shape"
      ]
    },
    {
      "cell_type": "code",
      "execution_count": null,
      "metadata": {
        "id": "5_PP_G5QKBKf"
      },
      "outputs": [],
      "source": [
        "for i in range(len(our_squarez)):\n",
        "      for j in range(len(our_squarez[i])):\n",
        "        our_squarez[i][j] = torch.norm(our_squarez[i][j] - activations_single_object )"
      ]
    },
    {
      "cell_type": "code",
      "execution_count": null,
      "metadata": {
        "colab": {
          "base_uri": "https://localhost:8080/"
        },
        "id": "Yr2bqmbNPtUh",
        "outputId": "c15ae6a3-0be2-42d5-9a8c-bf32a69cefdc"
      },
      "outputs": [
        {
          "output_type": "execute_result",
          "data": {
            "text/plain": [
              "tensor(35.5077)"
            ]
          },
          "metadata": {},
          "execution_count": 5
        }
      ],
      "source": [
        "our_squarez[2][1]"
      ]
    },
    {
      "cell_type": "code",
      "execution_count": null,
      "metadata": {
        "colab": {
          "base_uri": "https://localhost:8080/",
          "height": 406
        },
        "id": "3m3le2k-IGHD",
        "outputId": "fa01b0f6-65e3-42f1-cc55-63aa861d0f18"
      },
      "outputs": [
        {
          "output_type": "display_data",
          "data": {
            "text/plain": [
              "<Figure size 640x480 with 2 Axes>"
            ],
            "image/png": "[encoded data removed]"
          },
          "metadata": {}
        }
      ],
      "source": [
        "# Визуализация тепловой карты\n",
        "plt.imshow(our_squarez, cmap='hot', interpolation='nearest')\n",
        "plt.colorbar(label='Value')\n",
        "plt.axis('off')\n",
        "plt.show()\n",
        "\n"
      ]
    },
    {
      "cell_type": "code",
      "source": [
        "snd_dino = Image.open(\"2nd_dino.jpg\")"
      ],
      "metadata": {
        "id": "LXEibhb58RsC"
      },
      "execution_count": null,
      "outputs": []
    },
    {
      "cell_type": "code",
      "source": [
        "our_squarez2 = []\n",
        "for i in range(10,600,40):\n",
        "  row = []\n",
        "  for j in range(10,459,60):\n",
        "    box = (j, i, j+60, i+40)\n",
        "    square = snd_dino.crop(box)\n",
        "    row.append(square)\n",
        "  our_squarez2.append(row)\n",
        "# Преобразование изображений в тензоры PyTorch\n",
        "for i in range(len(our_squarez2)):\n",
        "  for j in range(len(our_squarez2[i])):\n",
        "    our_squarez2[i][j] = preprocess(our_squarez2[i][j]).unsqueeze(0)\n",
        "\n",
        "# Получение векторов активаций для изображений\n",
        "with torch.no_grad():\n",
        "    for i in range(len(our_squarez2)):\n",
        "      for j in range(len(our_squarez2[i])):\n",
        "        our_squarez2[i][j] = resnet(our_squarez2[i][j])\n",
        "snd_dino = preprocess(snd_dino)"
      ],
      "metadata": {
        "id": "zuLRS9Qn8jU_"
      },
      "execution_count": null,
      "outputs": []
    },
    {
      "cell_type": "code",
      "source": [
        "snd_dino.shape"
      ],
      "metadata": {
        "colab": {
          "base_uri": "https://localhost:8080/"
        },
        "id": "a9O1XTbv-sdk",
        "outputId": "bd995655-47fe-4ee9-cb2a-6928e477429d"
      },
      "execution_count": null,
      "outputs": [
        {
          "output_type": "execute_result",
          "data": {
            "text/plain": [
              "torch.Size([3, 602, 459])"
            ]
          },
          "metadata": {},
          "execution_count": 26
        }
      ]
    },
    {
      "cell_type": "code",
      "source": [],
      "metadata": {
        "id": "gv8LSq7l-GmT"
      },
      "execution_count": null,
      "outputs": []
    },
    {
      "cell_type": "code",
      "source": [
        "for i in range(len(our_squarez2)):\n",
        "      for j in range(len(our_squarez2[i])):\n",
        "        our_squarez2[i][j] = torch.norm(our_squarez2[i][j] - activations_single_object )"
      ],
      "metadata": {
        "id": "NTuf8Ire81ZT"
      },
      "execution_count": null,
      "outputs": []
    },
    {
      "cell_type": "code",
      "source": [
        "our_squarez2"
      ],
      "metadata": {
        "colab": {
          "base_uri": "https://localhost:8080/"
        },
        "id": "dn1qFIil9--_",
        "outputId": "b76d31c3-2eb2-4ed3-bc34-706b622d3f19"
      },
      "execution_count": null,
      "outputs": [
        {
          "output_type": "execute_result",
          "data": {
            "text/plain": [
              "[]"
            ]
          },
          "metadata": {},
          "execution_count": 12
        }
      ]
    },
    {
      "cell_type": "markdown",
      "source": [
        "`"
      ],
      "metadata": {
        "id": "WjoJ-_0g94eB"
      }
    },
    {
      "cell_type": "code",
      "source": [
        "# Визуализация тепловой карты\n",
        "plt.imshow(our_squarez2, cmap='hot', interpolation='nearest')\n",
        "plt.colorbar(label='Value')\n",
        "plt.axis('off')\n",
        "plt.show()\n"
      ],
      "metadata": {
        "colab": {
          "base_uri": "https://localhost:8080/",
          "height": 406
        },
        "id": "UN37Arbl9u_a",
        "outputId": "b59f5356-e47c-4a5e-bc73-ce697ee228be"
      },
      "execution_count": null,
      "outputs": [
        {
          "output_type": "display_data",
          "data": {
            "text/plain": [
              "<Figure size 640x480 with 2 Axes>"
            ],
            "image/png": "[encoded data removed]"
          },
          "metadata": {}
        }
      ]
    }
  ],
  "metadata": {
    "colab": {
      "provenance": []
    },
    "kernelspec": {
      "display_name": "Python 3",
      "name": "python3"
    },
    "language_info": {
      "name": "python"
    }
  },
  "nbformat": 4,
  "nbformat_minor": 0
}